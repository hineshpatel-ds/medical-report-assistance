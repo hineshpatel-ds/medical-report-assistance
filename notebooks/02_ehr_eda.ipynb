{
 "cells": [
  {
   "cell_type": "markdown",
   "id": "d252c71d",
   "metadata": {},
   "source": [
    "# 02 — EHR Data EDA\n",
    "\n",
    "**Goal:** Explore synthetic EHR (Electronic Health Records) data.\n",
    "- Check distributions of diagnosis, medications, vitals\n",
    "- Detect unrealistic values\n",
    "- Save figures for README/app\n"
   ]
  },
  {
   "cell_type": "code",
   "execution_count": 2,
   "id": "78e94f9d",
   "metadata": {},
   "outputs": [],
   "source": [
    "from pathlib import Path\n",
    "import pandas as pd\n",
    "import numpy as np\n",
    "import matplotlib.pyplot as plt"
   ]
  },
  {
   "cell_type": "markdown",
   "id": "c0c61a2a",
   "metadata": {},
   "source": []
  },
  {
   "cell_type": "code",
   "execution_count": 3,
   "id": "9ddf0371",
   "metadata": {},
   "outputs": [
    {
     "data": {
      "text/html": [
       "<div>\n",
       "<style scoped>\n",
       "    .dataframe tbody tr th:only-of-type {\n",
       "        vertical-align: middle;\n",
       "    }\n",
       "\n",
       "    .dataframe tbody tr th {\n",
       "        vertical-align: top;\n",
       "    }\n",
       "\n",
       "    .dataframe thead th {\n",
       "        text-align: right;\n",
       "    }\n",
       "</style>\n",
       "<table border=\"1\" class=\"dataframe\">\n",
       "  <thead>\n",
       "    <tr style=\"text-align: right;\">\n",
       "      <th></th>\n",
       "      <th>patient_id</th>\n",
       "      <th>diagnosis</th>\n",
       "      <th>medication</th>\n",
       "      <th>blood_pressure</th>\n",
       "      <th>heart_rate</th>\n",
       "      <th>glucose_level</th>\n",
       "    </tr>\n",
       "  </thead>\n",
       "  <tbody>\n",
       "    <tr>\n",
       "      <th>0</th>\n",
       "      <td>1</td>\n",
       "      <td>Coronary Artery Disease</td>\n",
       "      <td>Atorvastatin</td>\n",
       "      <td>103/84</td>\n",
       "      <td>63</td>\n",
       "      <td>153</td>\n",
       "    </tr>\n",
       "    <tr>\n",
       "      <th>1</th>\n",
       "      <td>2</td>\n",
       "      <td>Hypertension</td>\n",
       "      <td>Lisinopril</td>\n",
       "      <td>136/92</td>\n",
       "      <td>84</td>\n",
       "      <td>156</td>\n",
       "    </tr>\n",
       "    <tr>\n",
       "      <th>2</th>\n",
       "      <td>3</td>\n",
       "      <td>Asthma</td>\n",
       "      <td>Albuterol</td>\n",
       "      <td>150/63</td>\n",
       "      <td>106</td>\n",
       "      <td>77</td>\n",
       "    </tr>\n",
       "    <tr>\n",
       "      <th>3</th>\n",
       "      <td>4</td>\n",
       "      <td>Hypertension</td>\n",
       "      <td>Amlodipine</td>\n",
       "      <td>108/90</td>\n",
       "      <td>71</td>\n",
       "      <td>167</td>\n",
       "    </tr>\n",
       "    <tr>\n",
       "      <th>4</th>\n",
       "      <td>5</td>\n",
       "      <td>Coronary Artery Disease</td>\n",
       "      <td>Aspirin</td>\n",
       "      <td>123/80</td>\n",
       "      <td>106</td>\n",
       "      <td>142</td>\n",
       "    </tr>\n",
       "  </tbody>\n",
       "</table>\n",
       "</div>"
      ],
      "text/plain": [
       "   patient_id                diagnosis    medication blood_pressure  \\\n",
       "0           1  Coronary Artery Disease  Atorvastatin         103/84   \n",
       "1           2             Hypertension    Lisinopril         136/92   \n",
       "2           3                   Asthma     Albuterol         150/63   \n",
       "3           4             Hypertension    Amlodipine         108/90   \n",
       "4           5  Coronary Artery Disease       Aspirin         123/80   \n",
       "\n",
       "   heart_rate  glucose_level  \n",
       "0          63            153  \n",
       "1          84            156  \n",
       "2         106             77  \n",
       "3          71            167  \n",
       "4         106            142  "
      ]
     },
     "execution_count": 3,
     "metadata": {},
     "output_type": "execute_result"
    }
   ],
   "source": [
    "ROOT = Path.cwd().parents[0] if Path.cwd().name == \"notebooks\" else Path.cwd()\n",
    "DATA_RAW = ROOT / \"data\" / \"raw\"\n",
    "ASSETS = ROOT / \"app\" / \"assets\" / \"eda\"\n",
    "ASSETS.mkdir(parents=True, exist_ok=True)\n",
    "\n",
    "csv_path = DATA_RAW / \"patient_ehr.csv\"\n",
    "df = pd.read_csv(csv_path)\n",
    "df.head()"
   ]
  },
  {
   "cell_type": "code",
   "execution_count": 4,
   "id": "3396a807",
   "metadata": {},
   "outputs": [
    {
     "data": {
      "text/plain": [
       "'Shape :'"
      ]
     },
     "metadata": {},
     "output_type": "display_data"
    },
    {
     "data": {
      "text/plain": [
       "(200, 6)"
      ]
     },
     "metadata": {},
     "output_type": "display_data"
    },
    {
     "data": {
      "text/plain": [
       "'Null Values:'"
      ]
     },
     "metadata": {},
     "output_type": "display_data"
    },
    {
     "data": {
      "text/plain": [
       "patient_id         0\n",
       "diagnosis          0\n",
       "medication        44\n",
       "blood_pressure     0\n",
       "heart_rate         0\n",
       "glucose_level      0\n",
       "dtype: int64"
      ]
     },
     "metadata": {},
     "output_type": "display_data"
    }
   ],
   "source": [
    "display(\"Shape :\", df.shape)\n",
    "df.dtypes\n",
    "\n",
    "nulls = df.isnull().sum()\n",
    "\n",
    "display(\"Null Values:\",nulls)"
   ]
  },
  {
   "cell_type": "code",
   "execution_count": 7,
   "id": "bfb30aad",
   "metadata": {},
   "outputs": [
    {
     "data": {
      "image/png": "[encoded data removed]",
      "text/plain": [
       "<Figure size 640x480 with 1 Axes>"
      ]
     },
     "metadata": {},
     "output_type": "display_data"
    }
   ],
   "source": [
    "#diagnosis distribution\n",
    "diag_counts = df['diagnosis'].value_counts()\n",
    "\n",
    "diag_counts.plot(kind='bar',color='teal',edgecolor='black')\n",
    "plt.title('Diagnosis Distribution')\n",
    "plt.xlabel('Diagnosis')\n",
    "plt.ylabel('count')\n",
    "plt.tight_layout()\n",
    "plt.savefig(ASSETS / 'diagnosis_distribution.png', dpi=150)\n",
    "plt.show()"
   ]
  },
  {
   "cell_type": "code",
   "execution_count": null,
   "id": "5244ee69",
   "metadata": {},
   "outputs": [],
   "source": []
  }
 ],
 "metadata": {
  "kernelspec": {
   "display_name": ".venv",
   "language": "python",
   "name": "python3"
  },
  "language_info": {
   "codemirror_mode": {
    "name": "ipython",
    "version": 3
   },
   "file_extension": ".py",
   "mimetype": "text/x-python",
   "name": "python",
   "nbconvert_exporter": "python",
   "pygments_lexer": "ipython3",
   "version": "3.12.3"
  }
 },
 "nbformat": 4,
 "nbformat_minor": 5
}
