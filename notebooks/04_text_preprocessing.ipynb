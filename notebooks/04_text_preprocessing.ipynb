{
 "cells": [
  {
   "cell_type": "code",
   "execution_count": null,
   "id": "2e630bd6",
   "metadata": {},
   "outputs": [],
   "source": []
  },
  {
   "cell_type": "code",
   "execution_count": 16,
   "id": "2d2fa3ca",
   "metadata": {},
   "outputs": [],
   "source": [
    "# pip install nltk"
   ]
  },
  {
   "cell_type": "code",
   "execution_count": 17,
   "id": "91445499",
   "metadata": {},
   "outputs": [],
   "source": [
    "import pandas as pd\n",
    "import re\n",
    "import string\n",
    "import nltk \n",
    "from nltk.corpus import stopwords\n",
    "from nltk.stem import WordNetLemmatizer"
   ]
  },
  {
   "cell_type": "code",
   "execution_count": 18,
   "id": "7f0764a9",
   "metadata": {},
   "outputs": [
    {
     "data": {
      "text/plain": [
       "0    Patient is a 32-year-old Male with a history o...\n",
       "1    Patient is a 65-year-old Female with a history...\n",
       "2    Patient is a 20-year-old Female with a history...\n",
       "3    Patient is a 39-year-old Female with a history...\n",
       "4    Patient is a 69-year-old Male with a history o...\n",
       "Name: note_text, dtype: object"
      ]
     },
     "execution_count": 18,
     "metadata": {},
     "output_type": "execute_result"
    }
   ],
   "source": [
    "df = pd.read_csv(\"../data/raw/clinical_notes.csv\")\n",
    "df.note_text.head()"
   ]
  },
  {
   "cell_type": "code",
   "execution_count": 19,
   "id": "fda72b91",
   "metadata": {},
   "outputs": [
    {
     "data": {
      "text/plain": [
       "0    patient is a 32-year-old male with a history o...\n",
       "1    patient is a 65-year-old female with a history...\n",
       "2    patient is a 20-year-old female with a history...\n",
       "3    patient is a 39-year-old female with a history...\n",
       "4    patient is a 69-year-old male with a history o...\n",
       "Name: clean_text, dtype: object"
      ]
     },
     "execution_count": 19,
     "metadata": {},
     "output_type": "execute_result"
    }
   ],
   "source": [
    "#Lowercasing because to treat each word equally\n",
    "df['clean_text'] = df['note_text'].str.lower()\n",
    "df.clean_text.head()"
   ]
  },
  {
   "cell_type": "code",
   "execution_count": 20,
   "id": "f940a288",
   "metadata": {},
   "outputs": [],
   "source": [
    "#Remove punctuation + number:- because it does not provide meaning for simple NLP task\n",
    "df['clean_text'] = df['clean_text'].apply(lambda x: re.sub(f\"[{re.escape(string.punctuation)}0-9]\",\" \", x))"
   ]
  },
  {
   "cell_type": "code",
   "execution_count": 21,
   "id": "ec349112",
   "metadata": {},
   "outputs": [],
   "source": [
    "#Tokenation: splitting the word to analyze the frequency of the word\n",
    "df['tokens'] = df['clean_text'].str.split()"
   ]
  },
  {
   "cell_type": "code",
   "execution_count": 22,
   "id": "e0657ce2",
   "metadata": {},
   "outputs": [
    {
     "name": "stderr",
     "output_type": "stream",
     "text": [
      "[nltk_data] Downloading package stopwords to\n",
      "[nltk_data]     C:\\Users\\hines\\AppData\\Roaming\\nltk_data...\n",
      "[nltk_data]   Package stopwords is already up-to-date!\n"
     ]
    }
   ],
   "source": [
    "#Remove Stopwords: Words like is, to, the are too common which does not help analyzing\n",
    "nltk.download(\"stopwords\")\n",
    "stopwords = set(stopwords.words('english'))\n",
    "\n",
    "df['tokens'] = df['tokens'].apply(lambda tokens: [word for word in tokens if word not in stopwords])\n"
   ]
  },
  {
   "cell_type": "code",
   "execution_count": null,
   "id": "8eba9fb9",
   "metadata": {},
   "outputs": [
    {
     "name": "stderr",
     "output_type": "stream",
     "text": [
      "[nltk_data] Downloading package wordnet to\n",
      "[nltk_data]     C:\\Users\\hines\\AppData\\Roaming\\nltk_data...\n",
      "[nltk_data]   Package wordnet is already up-to-date!\n",
      "[nltk_data] Downloading package omw-1.4 to\n",
      "[nltk_data]     C:\\Users\\hines\\AppData\\Roaming\\nltk_data...\n",
      "[nltk_data]   Package omw-1.4 is already up-to-date!\n"
     ]
    },
    {
     "data": {
      "text/plain": [
       "0    [patient, year, old, male, history, healthy, p...\n",
       "1    [patient, year, old, female, history, hyperten...\n",
       "2    [patient, year, old, female, history, diabetes...\n",
       "3    [patient, year, old, female, history, asthma, ...\n",
       "4    [patient, year, old, male, history, hypertensi...\n",
       "Name: tokens, dtype: object"
      ]
     },
     "execution_count": 23,
     "metadata": {},
     "output_type": "execute_result"
    }
   ],
   "source": [
    "#Lemmatization:- its normalize the word like \"running\"-> run, \"diagnoses\" -> diagnosis\n",
    "\n",
    "nltk.download(\"wordnet\")\n",
    "nltk.download(\"omw-1.4\") #: This refers to version 1.4 of the Open Multilingual Wordnet (OMW). The OMW is a collection of wordnets for various languages, all structured similarly to Princeton WordNet. It provides lexical information for multiple languages, which can be useful for tasks like cross-lingual information retrieval or multilingual lemmatization.\n",
    "lemmatizer = WordNetLemmatizer()\n",
    "\n",
    "df['tokens'] = df['tokens'].apply(lambda tokens: [lemmatizer.lemmatize(word) for word in tokens])\n",
    "df.tokens.head()"
   ]
  },
  {
   "cell_type": "code",
   "execution_count": null,
   "id": "a30e9247",
   "metadata": {},
   "outputs": [
    {
     "data": {
      "text/plain": [
       "0    patient year old male history healthy presenti...\n",
       "1    patient year old female history hypertension p...\n",
       "2    patient year old female history diabetes prese...\n",
       "3    patient year old female history asthma present...\n",
       "4    patient year old male history hypertension pre...\n",
       "Name: processed_text, dtype: object"
      ]
     },
     "execution_count": 24,
     "metadata": {},
     "output_type": "execute_result"
    }
   ],
   "source": [
    "#Join Back(some models like tf-idf(term frequency-inverse document frequency) expect full string, not token list)\n",
    "#tf-idf reflects how important a word is to a document in a collection or corpus\n",
    "\n",
    "df['processed_text'] = df['tokens'].apply(lambda x: \" \".join(x))"
   ]
  },
  {
   "cell_type": "code",
   "execution_count": 25,
   "id": "2bbdf5ef",
   "metadata": {},
   "outputs": [
    {
     "name": "stdout",
     "output_type": "stream",
     "text": [
      "                                           note_text  \\\n",
      "0  Patient is a 32-year-old Male with a history o...   \n",
      "1  Patient is a 65-year-old Female with a history...   \n",
      "2  Patient is a 20-year-old Female with a history...   \n",
      "3  Patient is a 39-year-old Female with a history...   \n",
      "4  Patient is a 69-year-old Male with a history o...   \n",
      "\n",
      "                                      processed_text  \n",
      "0  patient year old male history healthy presenti...  \n",
      "1  patient year old female history hypertension p...  \n",
      "2  patient year old female history diabetes prese...  \n",
      "3  patient year old female history asthma present...  \n",
      "4  patient year old male history hypertension pre...  \n"
     ]
    }
   ],
   "source": [
    "print(df[[\"note_text\", \"processed_text\"]].head(5))"
   ]
  },
  {
   "cell_type": "code",
   "execution_count": null,
   "id": "b9e433b3",
   "metadata": {},
   "outputs": [],
   "source": []
  }
 ],
 "metadata": {
  "kernelspec": {
   "display_name": ".venv",
   "language": "python",
   "name": "python3"
  },
  "language_info": {
   "codemirror_mode": {
    "name": "ipython",
    "version": 3
   },
   "file_extension": ".py",
   "mimetype": "text/x-python",
   "name": "python",
   "nbconvert_exporter": "python",
   "pygments_lexer": "ipython3",
   "version": "3.12.3"
  }
 },
 "nbformat": 4,
 "nbformat_minor": 5
}
